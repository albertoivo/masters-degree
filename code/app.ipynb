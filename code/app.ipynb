{
 "cells": [
  {
   "cell_type": "markdown",
   "id": "3e181c20",
   "metadata": {},
   "source": [
    "# APP"
   ]
  },
  {
   "cell_type": "code",
   "execution_count": 11,
   "id": "4e2b4760",
   "metadata": {},
   "outputs": [],
   "source": [
    "import pickle\n",
    "from PIL import Image\n",
    "import numpy as np\n",
    "from pathlib import Path\n",
    "from epb_detection_system import preprocess_epb_image, EPBRecognitionSystem, TwoDPCA"
   ]
  },
  {
   "cell_type": "code",
   "execution_count": 12,
   "id": "d1c02f16",
   "metadata": {},
   "outputs": [
    {
     "name": "stdout",
     "output_type": "stream",
     "text": [
      "📦 Carregando modelo treinado...\n",
      "   ✓ Modelo carregado com sucesso!\n",
      "\n",
      "======================================================================\n",
      "🔍 PREDIÇÕES PARA 3 IMAGENS\n",
      "======================================================================\n",
      "\n",
      "📸 ara_com.png\n",
      "   EPB detectada: SIM\n",
      "   Probabilidade: 97.02%\n",
      "\n",
      "📸 bjl_sem-2.png\n",
      "   EPB detectada: NÃO\n",
      "   Probabilidade: 0.09%\n",
      "\n",
      "📸 bjl_sem.png\n",
      "   EPB detectada: SIM\n",
      "   Probabilidade: 50.17%\n",
      "\n",
      "======================================================================\n",
      "✅ PROCESSAMENTO CONCLUÍDO\n",
      "======================================================================\n"
     ]
    }
   ],
   "source": [
    "# 1. Carrega o modelo\n",
    "print(\"📦 Carregando modelo treinado...\")\n",
    "with open('models/epb_recognition_model.pkl', 'rb') as f:\n",
    "    model_data = pickle.load(f)\n",
    "\n",
    "system = model_data['system']\n",
    "target_size = model_data['target_size']\n",
    "print(\"   ✓ Modelo carregado com sucesso!\\n\")\n",
    "\n",
    "# 2. Processa todas as imagens do diretório img-teste\n",
    "img_folder = Path('img-teste')\n",
    "image_files = sorted(list(img_folder.glob('*.png')) + list(img_folder.glob('*.jpg')) + list(img_folder.glob('*.jpeg')))\n",
    "\n",
    "if len(image_files) == 0:\n",
    "    print(\"⚠️  Nenhuma imagem encontrada no diretório 'img-teste'\")\n",
    "else:\n",
    "    print(\"=\"*70)\n",
    "    print(f\"🔍 PREDIÇÕES PARA {len(image_files)} IMAGENS\")\n",
    "    print(\"=\"*70 + \"\\n\")\n",
    "    \n",
    "    for img_path in image_files:\n",
    "        try:\n",
    "            # Carrega e processa imagem\n",
    "            img = Image.open(img_path).convert('L')\n",
    "            img = np.array(img.resize(target_size))\n",
    "            img = preprocess_epb_image(img)\n",
    "            \n",
    "            # Faz predição\n",
    "            prob = system.predict_proba(img.reshape(1, *img.shape))[0]\n",
    "            pred = system.predict(img.reshape(1, *img.shape))[0]\n",
    "            \n",
    "            # Exibe resultado\n",
    "            print(f\"📸 {img_path.name}\")\n",
    "            print(f\"   EPB detectada: {'SIM' if pred == 1 else 'NÃO'}\")\n",
    "            print(f\"   Probabilidade: {prob[1]*100:.2f}%\")\n",
    "            print()\n",
    "            \n",
    "        except Exception as e:\n",
    "            print(f\"❌ {img_path.name}\")\n",
    "            print(f\"   Erro ao processar: {str(e)}\")\n",
    "            print()\n",
    "    \n",
    "    print(\"=\"*70)\n",
    "    print(\"✅ PROCESSAMENTO CONCLUÍDO\")\n",
    "    print(\"=\"*70)"
   ]
  }
 ],
 "metadata": {
  "kernelspec": {
   "display_name": "mestrado",
   "language": "python",
   "name": "python3"
  },
  "language_info": {
   "codemirror_mode": {
    "name": "ipython",
    "version": 3
   },
   "file_extension": ".py",
   "mimetype": "text/x-python",
   "name": "python",
   "nbconvert_exporter": "python",
   "pygments_lexer": "ipython3",
   "version": "3.10.19"
  }
 },
 "nbformat": 4,
 "nbformat_minor": 5
}
